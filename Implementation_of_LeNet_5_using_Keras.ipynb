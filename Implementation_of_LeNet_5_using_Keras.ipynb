{
  "nbformat": 4,
  "nbformat_minor": 0,
  "metadata": {
    "colab": {
      "name": "Implementation of LeNet-5 using Keras.ipynb",
      "provenance": [],
      "authorship_tag": "ABX9TyN3JA4aIuTu9zsRdKesfUZW",
      "include_colab_link": true
    },
    "kernelspec": {
      "name": "python3",
      "display_name": "Python 3"
    },
    "language_info": {
      "name": "python"
    }
  },
  "cells": [
    {
      "cell_type": "markdown",
      "metadata": {
        "id": "view-in-github",
        "colab_type": "text"
      },
      "source": [
        "<a href=\"https://colab.research.google.com/github/RamSakamuri/deeplearning/blob/main/Implementation_of_LeNet_5_using_Keras.ipynb\" target=\"_parent\"><img src=\"https://colab.research.google.com/assets/colab-badge.svg\" alt=\"Open In Colab\"/></a>"
      ]
    },
    {
      "cell_type": "markdown",
      "source": [
        "Implementation of LeNet-5 using Keras.\n",
        "\n",
        "This is created by Yann Lecun, one of the founding fathers of Deep Learning.Lenet is a 10 class classifier to classify digits.\n",
        "\n",
        "1.   Subsampling here is same as Mean Pooling with kernel size.\n",
        "2.   Sigmoid Activation has been used here, as relu wasn’t invented then and\n",
        "3. Input images are grayscale.\n",
        "\n",
        "Source: https://medium.datadriveninvestor.com/lenet-5-a-classic-cnn-architecture-c87d0b03560d"
      ],
      "metadata": {
        "id": "MWm3xiYBvh80"
      }
    },
    {
      "cell_type": "markdown",
      "source": [
        "**LeNet-5 Architecture**\n",
        "Original Image published in [LeCun et al., 1998]\n",
        "The LeNet-5 architecture consists of two sets of convolutional and average pooling layers, followed by a flattening convolutional layer, then two fully-connected layers and finally a softmax classifier.\n",
        "\n",
        "**First Layer:**\n",
        "\n",
        "The input for LeNet-5 is a 32×32 grayscale image which passes through the first convolutional layer with 6 feature maps or filters having size 5×5 and a stride of one. The image dimensions changes from 32x32x1 to 28x28x6.\n",
        "\n",
        "C1: Convolutional Layer\n",
        "\n",
        "**Second Layer:**\n",
        "\n",
        "Then the LeNet-5 applies average pooling layer or sub-sampling layer with a filter size 2×2 and a stride of two. The resulting image dimensions will be reduced to 14x14x6.\n",
        "\n",
        "S2: Average Pooling Layer\n",
        "\n",
        "**Third Layer:**\n",
        "\n",
        "Next, there is a second convolutional layer with 16 feature maps having size 5×5 and a stride of 1. In this layer, only 10 out of 16 feature maps are connected to 6 feature maps of the previous layer as shown below.\n",
        "\n",
        "Snapshot of TABLE 1 from [LeCun et al., 1998] \n",
        "\n",
        "The main reason is to break the symmetry in the network and keeps the number of connections within reasonable bounds. That’s why the number of training parameters in this layers are 1516 instead of 2400 and similarly, the number of connections are 151600 instead of 240000.\n",
        "C3: Convolutional Layer\n",
        "\n",
        "**Fourth Layer:**\n",
        "\n",
        "The fourth layer (S4) is again an average pooling layer with filter size 2×2 and a stride of 2. This layer is the same as the second layer (S2) except it has 16 feature maps so the output will be reduced to 5x5x16.\n",
        "S4: Average Pooling Layer\n",
        "\n",
        "**Fifth Layer:**\n",
        "\n",
        "The fifth layer (C5) is a fully connected convolutional layer with 120 feature maps each of size 1×1. Each of the 120 units in C5 is connected to all the 400 nodes (5x5x16) in the fourth layer S4.\n",
        "C5: Fully Connected Convolutional Layer\n",
        "\n",
        "**Sixth Layer:**\n",
        "\n",
        "The sixth layer is a fully connected layer (F6) with 84 units.\n",
        "F6: Fully Connected Layer\n",
        "\n",
        "**Output Layer:**\n",
        "\n",
        "Finally, there is a fully connected softmax output layer ŷ with 10 possible values corresponding to the digits from 0 to 9.\n",
        "\n"
      ],
      "metadata": {
        "id": "4Y064iJivxXN"
      }
    },
    {
      "cell_type": "code",
      "execution_count": 19,
      "metadata": {
        "id": "UgWNrgWXtLNM"
      },
      "outputs": [],
      "source": [
        "from keras.datasets import mnist\n",
        "from keras.utils import np_utils\n",
        "# Load dataset as train and test sets\n",
        "(x_train, y_train), (x_test, y_test) = mnist.load_data()\n",
        "\n",
        "# Set numeric type to float32 from uint8\n",
        "x_train = x_train.astype(\"float32\")\n",
        "x_test = x_test.astype(\"float32\")\n",
        "\n",
        "# Normalize value to [0, 1]\n",
        "x_train /= 255\n",
        "x_test /= 255\n",
        "\n",
        "# Transform lables to one-hot encoding\n",
        "y_train = np_utils.to_categorical(y_train, 10)\n",
        "y_test = np_utils.to_categorical(y_test, 10)\n",
        "\n",
        "# Reshape the dataset into 4D array\n",
        "x_train = x_train.reshape(x_train.shape[0], 28,28,1)\n",
        "x_test = x_test.reshape(x_test.shape[0], 28,28,1)"
      ]
    },
    {
      "cell_type": "code",
      "source": [
        "from keras.models import Sequential\n",
        "from keras import models, layers\n",
        "import keras\n",
        "#Instantiate an empty model\n",
        "model = Sequential()\n",
        "\n",
        "# C1 Convolutional Layer\n",
        "model.add(layers.Conv2D(6, kernel_size=(5, 5), strides=(1, 1), activation=\"tanh\", input_shape=(28,28,1), padding=\"same\"))\n",
        "\n",
        "# S2 Pooling Layer\n",
        "model.add(layers.AveragePooling2D(pool_size=(2, 2), strides=(1, 1), padding=\"valid\"))\n",
        "\n",
        "# C3 Convolutional Layer\n",
        "model.add(layers.Conv2D(16, kernel_size=(5, 5), strides=(1, 1), activation=\"tanh\", padding=\"valid\"))\n",
        "\n",
        "# S4 Pooling Layer\n",
        "model.add(layers.AveragePooling2D(pool_size=(2, 2), strides=(2, 2), padding=\"valid\"))\n",
        "\n",
        "# C5 Fully Connected Convolutional Layer\n",
        "model.add(layers.Conv2D(120, kernel_size=(5, 5), strides=(1, 1), activation=\"tanh\", padding=\"valid\"))\n",
        "#Flatten the CNN output so that we can connect it with fully connected layers\n",
        "model.add(layers.Flatten())\n",
        "\n",
        "# FC6 Fully Connected Layer\n",
        "model.add(layers.Dense(84, activation=\"tanh\"))\n",
        "\n",
        "#Output Layer with softmax activation\n",
        "model.add(layers.Dense(10, activation=\"softmax\"))\n",
        "\n",
        "# Compile the model\n",
        "model.compile(loss=keras.losses.categorical_crossentropy, optimizer=\"SGD\", metrics=[\"accuracy\"])\n"
      ],
      "metadata": {
        "id": "heuqorwVthwU"
      },
      "execution_count": 20,
      "outputs": []
    },
    {
      "cell_type": "code",
      "source": [
        "hist = model.fit(x=x_train,y=y_train, epochs=10, batch_size=128, validation_data=(x_test, y_test), verbose=1)"
      ],
      "metadata": {
        "colab": {
          "base_uri": "https://localhost:8080/"
        },
        "id": "H8vuht6JuaCW",
        "outputId": "affd9d77-d666-4c3c-e088-87b701d1bd5a"
      },
      "execution_count": 21,
      "outputs": [
        {
          "output_type": "stream",
          "name": "stdout",
          "text": [
            "Epoch 1/10\n",
            "469/469 [==============================] - 81s 171ms/step - loss: 0.7067 - accuracy: 0.8146 - val_loss: 0.3465 - val_accuracy: 0.9028\n",
            "Epoch 2/10\n",
            "469/469 [==============================] - 80s 171ms/step - loss: 0.3192 - accuracy: 0.9097 - val_loss: 0.2713 - val_accuracy: 0.9218\n",
            "Epoch 3/10\n",
            "469/469 [==============================] - 80s 171ms/step - loss: 0.2611 - accuracy: 0.9247 - val_loss: 0.2314 - val_accuracy: 0.9306\n",
            "Epoch 4/10\n",
            "469/469 [==============================] - 80s 171ms/step - loss: 0.2264 - accuracy: 0.9348 - val_loss: 0.2054 - val_accuracy: 0.9388\n",
            "Epoch 5/10\n",
            "469/469 [==============================] - 80s 171ms/step - loss: 0.2015 - accuracy: 0.9420 - val_loss: 0.1846 - val_accuracy: 0.9458\n",
            "Epoch 6/10\n",
            "469/469 [==============================] - 80s 171ms/step - loss: 0.1825 - accuracy: 0.9471 - val_loss: 0.1697 - val_accuracy: 0.9496\n",
            "Epoch 7/10\n",
            "469/469 [==============================] - 80s 171ms/step - loss: 0.1670 - accuracy: 0.9520 - val_loss: 0.1559 - val_accuracy: 0.9543\n",
            "Epoch 8/10\n",
            "469/469 [==============================] - 80s 170ms/step - loss: 0.1536 - accuracy: 0.9566 - val_loss: 0.1435 - val_accuracy: 0.9582\n",
            "Epoch 9/10\n",
            "469/469 [==============================] - 80s 171ms/step - loss: 0.1421 - accuracy: 0.9596 - val_loss: 0.1342 - val_accuracy: 0.9611\n",
            "Epoch 10/10\n",
            "469/469 [==============================] - 80s 171ms/step - loss: 0.1323 - accuracy: 0.9626 - val_loss: 0.1270 - val_accuracy: 0.9629\n"
          ]
        }
      ]
    },
    {
      "cell_type": "markdown",
      "source": [
        "***Evaluate the Model***"
      ],
      "metadata": {
        "id": "7uVqJPkOuhwe"
      }
    },
    {
      "cell_type": "code",
      "source": [
        "test_score = model.evaluate(x_test, y_test)\n",
        "print(\"Test loss {:.4f}, accuracy {:.2f}%\".format(test_score[0], test_score[1] * 100))"
      ],
      "metadata": {
        "colab": {
          "base_uri": "https://localhost:8080/"
        },
        "id": "vGS7M9vyuc6G",
        "outputId": "8879fa42-1a6d-4f05-d5fb-06015e595bab"
      },
      "execution_count": 22,
      "outputs": [
        {
          "output_type": "stream",
          "name": "stdout",
          "text": [
            "313/313 [==============================] - 6s 19ms/step - loss: 0.1270 - accuracy: 0.9629\n",
            "Test loss 0.1270, accuracy 96.29%\n"
          ]
        }
      ]
    },
    {
      "cell_type": "code",
      "source": [
        ""
      ],
      "metadata": {
        "id": "h2Tza77yugTH"
      },
      "execution_count": 22,
      "outputs": []
    },
    {
      "cell_type": "markdown",
      "source": [
        "**Visualize the Training Process**"
      ],
      "metadata": {
        "id": "XNxSo-zduoOz"
      }
    },
    {
      "cell_type": "code",
      "source": [
        "import matplotlib.pyplot as plt\n",
        "f, ax = plt.subplots()\n",
        "ax.plot([None] + hist.history[\"accuracy\"], \"o-\")\n",
        "ax.plot([None] + hist.history[\"val_accuracy\"], \"x-\")\n",
        "# Plot legend and use the best location automatically: loc = 0.\n",
        "ax.legend([\"Train acc\", \"Validation acc\"], loc = 0)\n",
        "ax.set_title(\"Training/Validation acc per Epoch\")\n",
        "ax.set_xlabel(\"Epoch\")\n",
        "ax.set_ylabel(\"acc\")"
      ],
      "metadata": {
        "colab": {
          "base_uri": "https://localhost:8080/",
          "height": 312
        },
        "id": "XbiFGFgyvBf0",
        "outputId": "e2153902-d0b6-4290-8518-6860ba45a6e3"
      },
      "execution_count": 24,
      "outputs": [
        {
          "output_type": "execute_result",
          "data": {
            "text/plain": [
              "Text(0, 0.5, 'acc')"
            ]
          },
          "metadata": {},
          "execution_count": 24
        },
        {
          "output_type": "display_data",
          "data": {
            "image/png": "[encoded data removed]",
            "text/plain": [
              "<Figure size 432x288 with 1 Axes>"
            ]
          },
          "metadata": {
            "needs_background": "light"
          }
        }
      ]
    },
    {
      "cell_type": "code",
      "source": [
        "hist.history.keys()"
      ],
      "metadata": {
        "colab": {
          "base_uri": "https://localhost:8080/"
        },
        "id": "pPO-qzqzHLcF",
        "outputId": "78e65ed1-100b-4094-dafb-9443b8db091b"
      },
      "execution_count": 29,
      "outputs": [
        {
          "output_type": "execute_result",
          "data": {
            "text/plain": [
              "dict_keys(['loss', 'accuracy', 'val_loss', 'val_accuracy'])"
            ]
          },
          "metadata": {},
          "execution_count": 29
        }
      ]
    },
    {
      "cell_type": "code",
      "source": [
        "import matplotlib.pyplot as plt\n",
        "f, ax = plt.subplots()\n",
        "ax.plot([None] + hist.history[\"loss\"], \"o-\")\n",
        "ax.plot([None] + hist.history[\"val_loss\"], \"x-\")\n",
        "# Plot legend and use the best location automatically: loc = 0.\n",
        "ax.legend([\"Train Loss\", \"Validation Loss\"], loc = 0)\n",
        "ax.set_title(\"Training/Validation Loss per Epoch\")\n",
        "ax.set_xlabel(\"Epoch\")\n",
        "ax.set_ylabel(\"Loss\")"
      ],
      "metadata": {
        "colab": {
          "base_uri": "https://localhost:8080/",
          "height": 312
        },
        "id": "tBK_-5bDvX8i",
        "outputId": "42a04269-cdc3-436a-8327-c8786da6d209"
      },
      "execution_count": 31,
      "outputs": [
        {
          "output_type": "execute_result",
          "data": {
            "text/plain": [
              "Text(0, 0.5, 'Loss')"
            ]
          },
          "metadata": {},
          "execution_count": 31
        },
        {
          "output_type": "display_data",
          "data": {
            "image/png": "[encoded data removed]",
            "text/plain": [
              "<Figure size 432x288 with 1 Axes>"
            ]
          },
          "metadata": {
            "needs_background": "light"
          }
        }
      ]
    }
  ]
}